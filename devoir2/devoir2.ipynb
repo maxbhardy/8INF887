{
 "cells": [
  {
   "cell_type": "code",
   "execution_count": null,
   "id": "ec40092b",
   "metadata": {},
   "outputs": [],
   "source": [
    "import numpy as np\n",
    "from scipy.special import expit\n",
    "import sys\n",
    "\n",
    "\n",
    "# Implémentation du MLP\n",
    "# Couche d'entrées, 1 couche cachée et couche de sorties\n",
    "#\n",
    "# Code similaire à Adaline\n",
    "\n",
    "class NeuralNetMLP(object):\n",
    "    \"\"\" Feedforward neural network / Multi-layer perceptron classifier.\n",
    "\n",
    "    Parameters\n",
    "    ------------\n",
    "    n_output : int\n",
    "        Number of output units, should be equal to the number of unique class labels.\n",
    "    n_features : int\n",
    "        Number of features (dimensions) in the target dataset.Should be equal to the number of columns in the X array.\n",
    "    n_hidden : list (default: [30])\n",
    "        List containing the number of hidden units in each hidden layer. By default, a\n",
    "        single hidden layer containing 30 units is used.\n",
    "    l1 : float (default: 0.0)\n",
    "        Lambda value for L1-regularization. No regularization if l1=0.0 (default)\n",
    "    l2 : float (default: 0.0)\n",
    "        Lambda value for L2-regularization. No regularization if l2=0.0 (default)\n",
    "    epochs : int (default: 500)\n",
    "        Number of passes over the training set.\n",
    "    eta : float (default: 0.001)\n",
    "        Learning rate.\n",
    "    alpha : float (default: 0.0)\n",
    "        Momentum constant. Factor multiplied with the gradient of the previous epoch t-1 to improve learning speed\n",
    "        w(t) := w(t) - (grad(t) + alpha*grad(t-1))\n",
    "    decrease_const : float (default: 0.0)\n",
    "        Decrease constant. Shrinks the learning rate after each epoch via eta / (1 + epoch*decrease_const)\n",
    "    shuffle : bool (default: True)\n",
    "        Shuffles training data every epoch if True to prevent circles.\n",
    "    minibatches : int (default: 1)\n",
    "        Divides training data into k minibatches for efficiency. Normal gradient descent learning if k=1 (default).\n",
    "    random_state : int (default: None)\n",
    "        Set random state for shuffling and initializing the weights.\n",
    "\n",
    "    Attributes\n",
    "    -----------\n",
    "    cost_ : list\n",
    "      Sum of squared errors after each epoch.\n",
    "\n",
    "    \"\"\"\n",
    "\n",
    "    def __init__(self, n_output, n_features, n_hidden=[30], l1=0.0, l2=0.0, epochs=500, eta=0.001, alpha=0.0,\n",
    "                 decrease_const=0.0, shuffle=True, minibatches=1, random_state=None):\n",
    "\n",
    "        np.random.seed(random_state)\n",
    "        self.n_output = n_output\n",
    "        self.n_features = n_features\n",
    "        self.n_hidden = n_hidden\n",
    "        self.weights, self.biases = self._initialize_weights()\n",
    "        self.l1 = l1\n",
    "        self.l2 = l2\n",
    "        self.epochs = epochs\n",
    "        self.eta = eta\n",
    "        self.alpha = alpha\n",
    "        self.decrease_const = decrease_const\n",
    "        self.shuffle = shuffle\n",
    "        self.minibatches = minibatches\n",
    "\n",
    "    def _encode_labels(self, y, k):\n",
    "        \"\"\"Encode labels into one-hot representation\n",
    "\n",
    "        Parameters\n",
    "        ------------\n",
    "        y : array, shape = [n_samples]   Target values.\n",
    "\n",
    "        Returns\n",
    "        -----------\n",
    "        onehot : array, shape = (n_labels, n_samples)\n",
    "\n",
    "        \"\"\"\n",
    "        onehot = np.zeros((k, y.shape[0]))\n",
    "        \n",
    "        #for idx, val in enumerate(y):\n",
    "        #    onehot[val, idx] = 1.0\n",
    "\n",
    "        onehot[y, np.arange(y.shape[0])] = 1\n",
    "\n",
    "        return onehot\n",
    "\n",
    "    def _initialize_weights(self):\n",
    "        \"\"\"Initialize weights with small random numbers.\"\"\"\n",
    "        weights = []\n",
    "        biases = []\n",
    "\n",
    "        # Weights of the hidden layers and output layers\n",
    "        prev = self.n_features\n",
    "\n",
    "        for i, h in enumerate(self.n_hidden + [self.n_output]):\n",
    "            w = np.random.uniform(-1.0, 1.0, size=(h, prev))\n",
    "            b = np.random.uniform(-1.0, 1.0, size=h)\n",
    "\n",
    "            prev = h\n",
    "\n",
    "            weights.append(w)\n",
    "            biases.append(b)\n",
    "            \n",
    "        return weights, biases\n",
    "\n",
    "    def _sigmoid(self, z):\n",
    "        \"\"\"Compute logistic function (sigmoid)\n",
    "\n",
    "        Uses scipy.special.expit to avoid overflow\n",
    "        error for very small input values z.\n",
    "\n",
    "        \"\"\"\n",
    "        # return 1.0 / (1.0 + np.exp(-z))\n",
    "        return expit(z)\n",
    "\n",
    "    def _sigmoid_gradient(self, z):\n",
    "        \"\"\"Compute gradient of the logistic function\"\"\"\n",
    "        sg = self._sigmoid(z)\n",
    "        return sg * (1.0 - sg)\n",
    "\n",
    "    def _add_bias_unit(self, X, how='column'):\n",
    "        \"\"\"Add bias unit (column or row of 1s) to array at index 0\"\"\"\n",
    "        if how == 'column':\n",
    "            X_new = np.ones((X.shape[0], X.shape[1] + 1))\n",
    "            X_new[:, 1:] = X\n",
    "        elif how == 'row':\n",
    "            X_new = np.ones((X.shape[0] + 1, X.shape[1]))\n",
    "            X_new[1:, :] = X\n",
    "        else:\n",
    "            raise AttributeError('`how` must be `column` or `row`')\n",
    "        return X_new\n",
    "\n",
    "    def _feedforward(self, X, weights, biases):\n",
    "        \"\"\"Compute feedforward step\n",
    "\n",
    "        Parameters\n",
    "        -----------\n",
    "        X : array, shape = [n_samples, n_features]\n",
    "            Input layer with original features.\n",
    "        w1 : array, shape = [n_hidden_units, n_features]\n",
    "            Weight matrix for input layer -> hidden layer.\n",
    "        w2 : array, shape = [n_output_units, n_hidden_units]\n",
    "            Weight matrix for hidden layer -> output layer.\n",
    "\n",
    "        Returns\n",
    "        ----------\n",
    "        a1 : array, shape = [n_samples, n_features+1]\n",
    "            Input values with bias unit.\n",
    "        z2 : array, shape = [n_hidden, n_samples]\n",
    "            Net input of hidden layer.\n",
    "        a2 : array, shape = [n_hidden+1, n_samples]\n",
    "            Activation of hidden layer.\n",
    "        z3 : array, shape = [n_output_units, n_samples]\n",
    "            Net input of output layer.\n",
    "        a3 : array, shape = [n_output_units, n_samples]\n",
    "            Activation of output layer.\n",
    "\n",
    "        \"\"\"\n",
    "        # Memory of previous operations: list of tuples (z,a)\n",
    "        forward = []\n",
    "\n",
    "        # Transpose X (first layer)\n",
    "        a = X.T\n",
    "        forward.append((a,a)) # No 'z' for input layer\n",
    "\n",
    "        # Apply layers\n",
    "        for w, b in zip(weights, biases):\n",
    "            # Net input: z^(i)\n",
    "            z = w.dot(a) + b[:, None]\n",
    "\n",
    "            # Activation: a^(i)\n",
    "            a = self._sigmoid(z)\n",
    "            \n",
    "            # Append to memory\n",
    "            forward.append((z,a))\n",
    "\n",
    "        return forward\n",
    "\n",
    "    def _L2_reg(self, lambda_, weights):\n",
    "        \"\"\"Compute L2-regularization cost\"\"\"\n",
    "        return (lambda_ / 2.0) * sum(np.sum(w**2) for w in weights)\n",
    "\n",
    "    def _L1_reg(self, lambda_, weights):\n",
    "        \"\"\"Compute L1-regularization cost\"\"\"\n",
    "        return (lambda_ / 2.0) * sum(np.abs(w).sum() for w in weights)\n",
    "\n",
    "    def _get_cost(self, y_enc, output, weights):\n",
    "        \"\"\"Compute cost function.\n",
    "\n",
    "        Parameters\n",
    "        ----------\n",
    "        y_enc : array, shape = (n_labels, n_samples)\n",
    "            one-hot encoded class labels.\n",
    "        output : array, shape = [n_output_units, n_samples]\n",
    "            Activation of the output layer (feedforward)\n",
    "        w1 : array, shape = [n_hidden_units, n_features]\n",
    "            Weight matrix for input layer -> hidden layer.\n",
    "        w2 : array, shape = [n_output_units, n_hidden_units]\n",
    "            Weight matrix for hidden layer -> output layer.\n",
    "\n",
    "        Returns\n",
    "        ---------\n",
    "        cost : float\n",
    "            Regularized cost.\n",
    "\n",
    "        \"\"\"\n",
    "        term1 = -y_enc * (np.log(output))\n",
    "        term2 = (1.0 - y_enc) * np.log(1.0 - output)\n",
    "        cost = np.sum(term1 - term2)\n",
    "        L1_term = self._L1_reg(self.l1, weights)\n",
    "        L2_term = self._L2_reg(self.l2, weights)\n",
    "        cost = cost + L1_term + L2_term\n",
    "        return cost\n",
    "\n",
    "    #\n",
    "    # Nous verrons plus tard\n",
    "    #\n",
    "    def _get_gradient(self, forward, y_enc, weights, biases):\n",
    "        \"\"\" Compute gradient step using backpropagation.\n",
    "\n",
    "        Parameters\n",
    "        ------------\n",
    "        a1 : array, shape = [n_samples, n_features+1]\n",
    "            Input values with bias unit.\n",
    "        a2 : array, shape = [n_hidden+1, n_samples]\n",
    "            Activation of hidden layer.\n",
    "        a3 : array, shape = [n_output_units, n_samples]\n",
    "            Activation of output layer.\n",
    "        z2 : array, shape = [n_hidden, n_samples]\n",
    "            Net input of hidden layer.\n",
    "        y_enc : array, shape = (n_labels, n_samples)\n",
    "            one-hot encoded class labels.\n",
    "        w1 : array, shape = [n_hidden_units, n_features]\n",
    "            Weight matrix for input layer -> hidden layer.\n",
    "        w2 : array, shape = [n_output_units, n_hidden_units]\n",
    "            Weight matrix for hidden layer -> output layer.\n",
    "\n",
    "        Returns\n",
    "        ---------\n",
    "        grad1 : array, shape = [n_hidden_units, n_features]\n",
    "            Gradient of the weight matrix w1.\n",
    "        grad2 : array, shape = [n_output_units, n_hidden_units]\n",
    "            Gradient of the weight matrix w2.\n",
    "\n",
    "        \"\"\"\n",
    "        grad_w = []\n",
    "        grad_b = []\n",
    "\n",
    "        # Erreur de classification\n",
    "        sigma = forward[-1][1] - y_enc\n",
    "\n",
    "        for (z, a), w, b in zip(reversed(forward[:-1]), reversed(weights), reversed(biases)):\n",
    "            # Compute gradient: sigma^(i+1) * [a^(i)]^T\n",
    "            gw = sigma.dot(a.T)\n",
    "            gb = sigma.sum(axis=1)\n",
    "\n",
    "            # Regularize (not biases)\n",
    "            gw += self.l2 * w\n",
    "            gw += self.l1 * np.sign(w)\n",
    "\n",
    "            # Append gradients\n",
    "            grad_w.append(gw)\n",
    "            grad_b.append(gb)\n",
    "\n",
    "            # Update error to previous layer\n",
    "            sigma = w.T.dot(sigma) * self._sigmoid_gradient(z)\n",
    "\n",
    "        # Reverse gradients\n",
    "        grad_w = [gw for gw in reversed(grad_w)]\n",
    "        grad_b = [gb for gb in reversed(grad_b)]\n",
    "\n",
    "        return grad_w, grad_b\n",
    "\n",
    "    def predict(self, X):\n",
    "        \"\"\"Predict class labels\n",
    "\n",
    "        Parameters\n",
    "        -----------\n",
    "        X : array, shape = [n_samples, n_features]\n",
    "            Input layer with original features.\n",
    "\n",
    "        Returns:\n",
    "        ----------\n",
    "        y_pred : array, shape = [n_samples]\n",
    "            Predicted class labels.\n",
    "\n",
    "        \"\"\"\n",
    "        if len(X.shape) != 2:\n",
    "            raise AttributeError('X must be a [n_samples, n_features] array.\\n'\n",
    "                                 'Use X[:,None] for 1-feature classification,'\n",
    "                                 '\\nor X[[i]] for 1-sample classification')\n",
    "\n",
    "        forward = self._feedforward(X, self.weights, self.biases)\n",
    "        y_pred = np.argmax(forward[-1][1], axis=0)\n",
    "        return y_pred\n",
    "\n",
    "    #\n",
    "    # Fonction d'entraînement\n",
    "    #\n",
    "    def fit(self, X, y, print_progress=False):\n",
    "        \"\"\" Learn weights from training data.\n",
    "\n",
    "        Parameters\n",
    "        -----------\n",
    "        X : array, shape = [n_samples, n_features]\n",
    "            Input layer with original features.\n",
    "        y : array, shape = [n_samples]\n",
    "            Target class labels.\n",
    "        print_progress : bool (default: False)\n",
    "            Prints progress as the number of epochs\n",
    "            to stderr.\n",
    "\n",
    "        Returns:\n",
    "        ----------\n",
    "        self\n",
    "\n",
    "        \"\"\"\n",
    "        self.cost_ = []\n",
    "        X_data, y_data = X.copy(), y.copy()\n",
    "        y_enc = self._encode_labels(y, self.n_output)  # Vecteur one-hot\n",
    "\n",
    "        delta_w_prev = [np.zeros(w.shape) for w in self.weights]\n",
    "        delta_b_prev = [np.zeros(b.shape) for b in self.biases]\n",
    "\n",
    "        for i in range(self.epochs):  # Nombre de passage sur le dataset\n",
    "            # adaptive learning rate\n",
    "            self.eta /= (1 + self.decrease_const * i)  # Permet de réduire le nombre d'epochs nécessaire à la convergence en limitant les risques de \"pas\" trop grand!\n",
    "\n",
    "            if print_progress:\n",
    "                sys.stderr.write('\\rEpoch: %d/%d' % (i + 1, self.epochs))\n",
    "                sys.stderr.flush()\n",
    "\n",
    "            if self.shuffle:  # on mélange le dataset à chaque epoch\n",
    "                idx = np.random.permutation(y_data.shape[0])\n",
    "                X_data, y_enc = X_data[idx], y_enc[:, idx]\n",
    "\n",
    "            mini = np.array_split(range(y_data.shape[0]),\n",
    "                                  self.minibatches)  # Si le mode minibatch est activé, le dataset en entrée est divisé en batch pour le calcul des gradients\n",
    "            for idx in mini:\n",
    "                # feedforward\n",
    "                forward = self._feedforward(X_data[idx], self.weights, self.biases)\n",
    "                cost = self._get_cost(y_enc=y_enc[:, idx], output=forward[-1][1], weights=self.weights)\n",
    "                self.cost_.append(cost)\n",
    "\n",
    "                # compute gradients via backpropagation\n",
    "                grad_w, grad_b = self._get_gradient(forward, y_enc[:, idx], self.weights, self.biases)\n",
    "\n",
    "                # Compute delta_w, delta_b\n",
    "                delta_w = [self.eta * gw for gw in grad_w]\n",
    "                delta_b = [self.eta * gb for gb in grad_b]\n",
    "\n",
    "                # Update weights and biases\n",
    "                for i, (dw, db) in enumerate(zip(delta_w, delta_b)):\n",
    "                    self.weights[i] -= (dw + self.alpha * delta_w_prev[i])\n",
    "                    self.biases[i] -= (db + self.alpha * delta_b_prev[i])\n",
    "                \n",
    "                # Keep previous weights and biases for momentum\n",
    "                delta_w_prev = delta_w\n",
    "                delta_b_prev = delta_b\n",
    "\n",
    "        return self\n"
   ]
  },
  {
   "cell_type": "code",
   "execution_count": 89,
   "id": "14c2f40e",
   "metadata": {},
   "outputs": [
    {
     "data": {
      "text/plain": [
       "array([[0, 0, 0, ..., 0, 0, 0],\n",
       "       [0, 0, 0, ..., 0, 0, 0],\n",
       "       [0, 0, 0, ..., 0, 0, 0],\n",
       "       ...,\n",
       "       [0, 0, 0, ..., 0, 0, 0],\n",
       "       [0, 0, 0, ..., 0, 0, 0],\n",
       "       [0, 0, 0, ..., 0, 0, 0]], shape=(60000, 784), dtype=uint8)"
      ]
     },
     "execution_count": 89,
     "metadata": {},
     "output_type": "execute_result"
    }
   ],
   "source": [
    "import os\n",
    "import struct\n",
    "import numpy as np\n",
    "import matplotlib.pyplot as plt\n",
    "\n",
    "def load_mnist(path, kind='train'):\n",
    "    labels_path = os.path.join(path, '%s-labels-idx1-ubyte' % kind)\n",
    "    images_path = os.path.join(path, '%s-images-idx3-ubyte' % kind)\n",
    "\n",
    "    with open(labels_path, 'rb') as lbpath:\n",
    "        magic, n = struct.unpack('>II', lbpath.read(8))\n",
    "        labels = np.fromfile(lbpath, dtype=np.uint8)\n",
    "\n",
    "    with open(images_path, 'rb') as imgpath:\n",
    "        magic, num, rows, cols = struct.unpack(\">IIII\", imgpath.read(16))\n",
    "        images = np.fromfile(imgpath, dtype=np.uint8).reshape(len(labels), 784)\n",
    "\n",
    "    return images, labels\n",
    "\n",
    "\n",
    "X_train, y_train = load_mnist('Perceptron multicouches/data/MNIST/raw/', kind='train')\n",
    "X_test, y_test = load_mnist('Perceptron multicouches/data/MNIST/raw/', kind='t10k')\n",
    "X_train\n"
   ]
  },
  {
   "cell_type": "code",
   "execution_count": 90,
   "id": "cfffb5db",
   "metadata": {},
   "outputs": [],
   "source": [
    "nn = NeuralNetMLP(n_output=10,\n",
    "                  n_features=X_train.shape[1],\n",
    "                  n_hidden=[50],\n",
    "                  l2=0.1,\n",
    "                  l1=0.0,\n",
    "                  epochs=1000,\n",
    "                  eta=0.001,\n",
    "                  alpha=0.001,\n",
    "                  decrease_const=0.00001,\n",
    "                  minibatches=50,\n",
    "                  shuffle=True,\n",
    "                  random_state=1)\n"
   ]
  },
  {
   "cell_type": "code",
   "execution_count": 91,
   "id": "6797267e",
   "metadata": {},
   "outputs": [
    {
     "data": {
      "text/plain": [
       "[(50, 784), (10, 50)]"
      ]
     },
     "execution_count": 91,
     "metadata": {},
     "output_type": "execute_result"
    }
   ],
   "source": [
    "[w.shape for w in nn.weights]"
   ]
  },
  {
   "cell_type": "code",
   "execution_count": 92,
   "id": "786d2da1",
   "metadata": {},
   "outputs": [
    {
     "data": {
      "text/plain": [
       "[(50,), (10,)]"
      ]
     },
     "execution_count": 92,
     "metadata": {},
     "output_type": "execute_result"
    }
   ],
   "source": [
    "[b.shape for b in nn.biases]"
   ]
  },
  {
   "cell_type": "code",
   "execution_count": 93,
   "id": "706de5c7",
   "metadata": {},
   "outputs": [
    {
     "data": {
      "text/plain": [
       "[((784, 10000), (784, 10000)),\n",
       " ((50, 10000), (50, 10000)),\n",
       " ((10, 10000), (10, 10000))]"
      ]
     },
     "execution_count": 93,
     "metadata": {},
     "output_type": "execute_result"
    }
   ],
   "source": [
    "forward = nn._feedforward(X_test, nn.weights, nn.biases)\n",
    "[(z.shape, a.shape) for (a,z) in forward]"
   ]
  },
  {
   "cell_type": "code",
   "execution_count": 94,
   "id": "93f3073d",
   "metadata": {},
   "outputs": [
    {
     "data": {
      "text/plain": [
       "np.float64(9.941326555244498)"
      ]
     },
     "execution_count": 94,
     "metadata": {},
     "output_type": "execute_result"
    }
   ],
   "source": [
    "nn._L1_reg(0.001, nn.weights)"
   ]
  },
  {
   "cell_type": "code",
   "execution_count": 95,
   "id": "0a468ddd",
   "metadata": {},
   "outputs": [
    {
     "data": {
      "text/plain": [
       "np.float64(6.632849671029394)"
      ]
     },
     "execution_count": 95,
     "metadata": {},
     "output_type": "execute_result"
    }
   ],
   "source": [
    "nn._L2_reg(0.001, nn.weights)"
   ]
  },
  {
   "cell_type": "code",
   "execution_count": 96,
   "id": "659c9705",
   "metadata": {},
   "outputs": [
    {
     "data": {
      "text/plain": [
       "np.float64(184137.53700336078)"
      ]
     },
     "execution_count": 96,
     "metadata": {},
     "output_type": "execute_result"
    }
   ],
   "source": [
    "forward = nn._feedforward(X_test, nn.weights, nn.biases)\n",
    "nn._get_cost(nn._encode_labels(y_test, 10), forward[-1][1], nn.weights)"
   ]
  },
  {
   "cell_type": "code",
   "execution_count": 97,
   "id": "e353f117",
   "metadata": {},
   "outputs": [],
   "source": [
    "grad_w, grad_b = nn._get_gradient(forward, nn._encode_labels(y_test, 10), nn.weights, nn.biases)"
   ]
  },
  {
   "cell_type": "code",
   "execution_count": 98,
   "id": "2bc911a0",
   "metadata": {},
   "outputs": [
    {
     "data": {
      "text/plain": [
       "[(50, 784), (10, 50)]"
      ]
     },
     "execution_count": 98,
     "metadata": {},
     "output_type": "execute_result"
    }
   ],
   "source": [
    "[gw.shape for gw in grad_w]"
   ]
  },
  {
   "cell_type": "code",
   "execution_count": 99,
   "id": "2bb102d4",
   "metadata": {},
   "outputs": [
    {
     "data": {
      "text/plain": [
       "[(50,), (10,)]"
      ]
     },
     "execution_count": 99,
     "metadata": {},
     "output_type": "execute_result"
    }
   ],
   "source": [
    "[gb.shape for gb in grad_b]"
   ]
  },
  {
   "cell_type": "code",
   "execution_count": 100,
   "id": "08b67e4a",
   "metadata": {},
   "outputs": [
    {
     "name": "stderr",
     "output_type": "stream",
     "text": [
      "Epoch: 1/1000"
     ]
    },
    {
     "name": "stderr",
     "output_type": "stream",
     "text": [
      "Epoch: 1000/1000"
     ]
    },
    {
     "data": {
      "text/plain": [
       "<__main__.NeuralNetMLP at 0x7fc0005a7350>"
      ]
     },
     "execution_count": 100,
     "metadata": {},
     "output_type": "execute_result"
    }
   ],
   "source": [
    "nn.fit(X_train, y_train, print_progress=True)"
   ]
  },
  {
   "cell_type": "code",
   "execution_count": 101,
   "id": "f4638093",
   "metadata": {},
   "outputs": [
    {
     "data": {
      "image/png": "[encoded data removed]",
      "text/plain": [
       "<Figure size 640x480 with 1 Axes>"
      ]
     },
     "metadata": {},
     "output_type": "display_data"
    }
   ],
   "source": [
    "fig, ax = plt.subplots()\n",
    "\n",
    "ax.plot(range(len(nn.cost_)), nn.cost_)\n",
    "ax.set_ylim([0, 2000])\n",
    "ax.set_ylabel('Cost')\n",
    "ax.set_xlabel('Epochs * 50')\n",
    "fig.savefig('./figures/cost.png', dpi=300, bbox_inches=\"tight\")\n"
   ]
  },
  {
   "cell_type": "code",
   "execution_count": 102,
   "id": "6c6e1f2f",
   "metadata": {},
   "outputs": [
    {
     "data": {
      "image/png": "[encoded data removed]",
      "text/plain": [
       "<Figure size 640x480 with 1 Axes>"
      ]
     },
     "metadata": {},
     "output_type": "display_data"
    }
   ],
   "source": [
    "batches = np.array_split(range(len(nn.cost_)), 1000)\n",
    "cost_ary = np.array(nn.cost_)\n",
    "cost_avgs = [np.mean(cost_ary[i]) for i in batches]\n",
    "\n",
    "fig, ax = plt.subplots()\n",
    "ax.plot(range(len(cost_avgs)), cost_avgs, color='red')\n",
    "ax.set_ylim([0, 2000])\n",
    "ax.set_ylabel('Cost')\n",
    "ax.set_xlabel('Epochs')\n",
    "fig.savefig('./figures/cost2.png', dpi=300, bbox_inches=\"tight\")"
   ]
  },
  {
   "cell_type": "code",
   "execution_count": 103,
   "id": "a93fab3c",
   "metadata": {},
   "outputs": [
    {
     "name": "stdout",
     "output_type": "stream",
     "text": [
      "Training accuracy: 97.68%\n",
      "Test accuracy: 96.08%\n"
     ]
    }
   ],
   "source": [
    "y_train_pred = nn.predict(X_train)\n",
    "acc = np.sum(y_train == y_train_pred, axis=0) / X_train.shape[0]\n",
    "print('Training accuracy: %.2f%%' % (acc * 100))\n",
    "\n",
    "y_test_pred = nn.predict(X_test)\n",
    "acc = np.sum(y_test == y_test_pred, axis=0) / X_test.shape[0]\n",
    "print('Test accuracy: %.2f%%' % (acc * 100))"
   ]
  },
  {
   "cell_type": "code",
   "execution_count": 104,
   "id": "15f61ed4",
   "metadata": {},
   "outputs": [
    {
     "data": {
      "image/png": "[encoded data removed]",
      "text/plain": [
       "<Figure size 800x800 with 25 Axes>"
      ]
     },
     "metadata": {},
     "output_type": "display_data"
    }
   ],
   "source": [
    "miscl_img = X_test[y_test != y_test_pred][:25]\n",
    "correct_lab = y_test[y_test != y_test_pred][:25]\n",
    "miscl_lab = y_test_pred[y_test != y_test_pred][:25]\n",
    "\n",
    "fig, axes = plt.subplots(nrows=5, ncols=5, sharex=True, sharey=True, figsize=(8,8))\n",
    "fig.subplots_adjust(hspace=0.45)\n",
    "axes = axes.flatten()\n",
    "for i in range(25):\n",
    "    img = miscl_img[i].reshape(28, 28)\n",
    "    axes[i].imshow(img, cmap='Greys', interpolation='nearest')\n",
    "    axes[i].set_title('%d) t: %d p: %d' % (i+1, correct_lab[i], miscl_lab[i]))\n",
    "\n",
    "axes[0].set_xticks([])\n",
    "axes[0].set_yticks([])\n",
    "\n",
    "fig.savefig('./figures/mnist_miscl.png', dpi=300, bbox_inches=\"tight\")\n",
    "\n"
   ]
  },
  {
   "cell_type": "code",
   "execution_count": null,
   "id": "b90c053c",
   "metadata": {},
   "outputs": [],
   "source": []
  }
 ],
 "metadata": {
  "kernelspec": {
   "display_name": "ai",
   "language": "python",
   "name": "python3"
  },
  "language_info": {
   "codemirror_mode": {
    "name": "ipython",
    "version": 3
   },
   "file_extension": ".py",
   "mimetype": "text/x-python",
   "name": "python",
   "nbconvert_exporter": "python",
   "pygments_lexer": "ipython3",
   "version": "3.11.9"
  }
 },
 "nbformat": 4,
 "nbformat_minor": 5
}
